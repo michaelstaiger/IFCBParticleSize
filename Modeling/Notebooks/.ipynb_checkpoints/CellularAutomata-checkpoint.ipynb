{
 "cells": [
  {
   "cell_type": "markdown",
   "id": "751ea4ee-4cec-43f5-beab-1e7fef2a251f",
   "metadata": {},
   "source": [
    "#### Want to create a model of how particle behave if they were evenly distributed verticlaly throughout the sytning and allowed to fall. How does this changes across size class -- what does this mean when coupled with look time both average inhibit time and prob looking\n",
    "\n",
    "\n",
    "### Subgoals\n",
    "1. model single cell size falling through time and space\n",
    "2. generalize this function and do for variety of sizes\n",
    "3. Randomly distribute different size classes throughout the syringe and see again\n",
    "4. tryto relate this to inhibit time -- could we model in this simple version how many cells we miss\n",
    "\n"
   ]
  },
  {
   "cell_type": "markdown",
   "id": "e9e892ac-94c5-4e8f-a517-908801e394fd",
   "metadata": {},
   "source": [
    "## 1. model single cell size basically need to create data frame with each cell at all positions and progress through time based on stokes setlting"
   ]
  },
  {
   "cell_type": "code",
   "execution_count": 4,
   "id": "e44b514f-6caa-4994-a7b3-8dc5feb2af5a",
   "metadata": {},
   "outputs": [],
   "source": [
    "import numpy as np\n",
    "import pandas as pd\n",
    "import matplotlib.pyplot as plt\n",
    "\n",
    "def stokes_terminal_velocity(diameter_um: float,\n",
    "                             rho_particle: float,\n",
    "                             rho_fluid: float,\n",
    "                             mu: float,\n",
    "                             g: float) -> float:\n",
    "    \"\"\"Stokes' settling velocity for a sphere at low Reynolds number (m/s).\"\"\"\n",
    "    d_m = diameter_um * 1e-6  # µm -> m\n",
    "    delta_rho = max(rho_particle - rho_fluid, 0.0)\n",
    "    return (delta_rho * g * d_m**2) / (18.0 * mu)\n",
    "\n",
    "def evenly_distributed_initial_positions(num: int, height_m: float) -> np.ndarray:\n",
    "    \"\"\"Centers of evenly spaced bins from bottom (0) to top (H).\"\"\"\n",
    "    if num <= 0:\n",
    "        return np.array([])\n",
    "    edges = np.linspace(0.0, height_m, num + 1)\n",
    "    return 0.5 * (edges[:-1] + edges[1:])\n",
    "\n",
    "# -----------------\n",
    "# Function 1: build the simulation dataframe\n",
    "# -----------------\n",
    "def simulate_settling_dataframe(cell_diameter_um: float,\n",
    "                                num_cells: int,\n",
    "                                syringe_height_cm: float,\n",
    "                                cell_density: float = 1050.0,     # kg/m^3\n",
    "                                fluid_density: float = 997.0,     # kg/m^3 water @ ~25°C\n",
    "                                fluid_viscosity: float = 0.00089, # Pa·s\n",
    "                                gravity: float = 9.81,            # m/s^2\n",
    "                                num_time_steps: int = 200):\n",
    "    \"\"\"\n",
    "    Returns:\n",
    "        df: tidy DataFrame with columns [time_s, particle_id, y_m, has_hit_bottom]\n",
    "        times: 1D array of time points (s)\n",
    "        cum_bottom: 1D array with cumulative count of particles that have reached bottom by each time\n",
    "    \"\"\"\n",
    "    H_m = syringe_height_cm / 100.0\n",
    "    v = stokes_terminal_velocity(cell_diameter_um, cell_density, fluid_density, fluid_viscosity, gravity)\n",
    "    # time horizon: allow enough time for top particle to reach bottom (+5%)\n",
    "    t_max = (H_m / v) * 1.05 if v > 0 else 1.0\n",
    "    times = np.linspace(0.0, t_max, num_time_steps)\n",
    "\n",
    "    # initial positions and deterministic settling\n",
    "    y0 = evenly_distributed_initial_positions(num_cells, H_m)\n",
    "    if len(y0) > 0:\n",
    "        Y = np.maximum(0.0, y0[None, :] - v * times[:, None])\n",
    "        t_hit_each = (y0 / v) if v > 0 else np.full_like(y0, np.inf)\n",
    "    else:\n",
    "        Y = np.zeros((len(times), 0))\n",
    "        t_hit_each = np.array([])\n",
    "\n",
    "    # cumulative hits vs time\n",
    "    cum_bottom = np.array([(t_hit_each <= t).sum() for t in times])\n",
    "\n",
    "    # tidy dataframe\n",
    "    df = pd.DataFrame({\n",
    "        \"time_s\": np.repeat(times, len(y0)),\n",
    "        \"particle_id\": np.tile(np.arange(1, len(y0) + 1), len(times)),\n",
    "        \"y_m\": Y.flatten(order=\"C\")\n",
    "    })\n",
    "    if len(y0) > 0:\n",
    "        df[\"has_hit_bottom\"] = df.apply(lambda r: r[\"time_s\"] >= t_hit_each[int(r[\"particle_id\"])-1], axis=1)\n",
    "    else:\n",
    "        df[\"has_hit_bottom\"] = np.array([], dtype=bool)\n",
    "\n",
    "    return df, times, cum_bottom\n",
    "\n",
    "# -----------------\n",
    "# Function 2: plot the cumulative arrivals at bottom\n",
    "# -----------------\n",
    "def plot_cumulative_bottom(times: np.ndarray, cum_bottom: np.ndarray, title: str = \"Cumulative particles at bottom over time\"):\n",
    "    \"\"\"Simple matplotlib plot for cumulative arrivals.\"\"\"\n",
    "    plt.figure(figsize=(8, 5))\n",
    "    plt.plot(times, cum_bottom)\n",
    "    plt.xlabel(\"Time (s)\")\n",
    "    plt.ylabel(\"Particles at bottom (cumulative)\")\n",
    "    plt.title(title)\n",
    "    plt.tight_layout()\n",
    "    plt.show()\n"
   ]
  },
  {
   "cell_type": "code",
   "execution_count": 7,
   "id": "e44e57e2-33e4-4286-84b2-52a2a1c461a0",
   "metadata": {},
   "outputs": [],
   "source": [
    "df = simulate_settling_dataframe(cell_diameter_um = 20,\n",
    "                                num_cells = 10000,\n",
    "                                syringe_height_cm = 11.0998,\n",
    "                                cell_density = 1100.0,     # kg/m^3\n",
    "                                fluid_density = 1025.0,     # kg/m^3 water @ ~25°C\n",
    "                                fluid_viscosity = 0.00109, # Pa·s\n",
    "                                gravity = 9.81,            # m/s^2\n",
    "                                num_time_steps = 1200)"
   ]
  },
  {
   "cell_type": "code",
   "execution_count": 8,
   "id": "adadb9f4-5d20-4903-b568-b271e1804c80",
   "metadata": {},
   "outputs": [
    {
     "ename": "SyntaxError",
     "evalue": "unterminated string literal (detected at line 1) (191224942.py, line 1)",
     "output_type": "error",
     "traceback": [
      "  \u001b[36mCell\u001b[39m\u001b[36m \u001b[39m\u001b[32mIn[8]\u001b[39m\u001b[32m, line 1\u001b[39m\n\u001b[31m    \u001b[39m\u001b[31mplot_cumulative_bottom(times = df[\"\u001b[39m\n                                      ^\n\u001b[31mSyntaxError\u001b[39m\u001b[31m:\u001b[39m unterminated string literal (detected at line 1)\n"
     ]
    }
   ],
   "source": [
    "plot_cumulative_bottom(times = df[\""
   ]
  },
  {
   "cell_type": "code",
   "execution_count": 9,
   "id": "6b0e71ad-cd07-4b8c-b22f-2c5af55f0ec7",
   "metadata": {},
   "outputs": [
    {
     "ename": "AttributeError",
     "evalue": "'tuple' object has no attribute 'head'",
     "output_type": "error",
     "traceback": [
      "\u001b[31m---------------------------------------------------------------------------\u001b[39m",
      "\u001b[31mAttributeError\u001b[39m                            Traceback (most recent call last)",
      "\u001b[36mCell\u001b[39m\u001b[36m \u001b[39m\u001b[32mIn[9]\u001b[39m\u001b[32m, line 1\u001b[39m\n\u001b[32m----> \u001b[39m\u001b[32m1\u001b[39m \u001b[38;5;28mprint\u001b[39m(\u001b[43mdf\u001b[49m\u001b[43m.\u001b[49m\u001b[43mhead\u001b[49m())\n",
      "\u001b[31mAttributeError\u001b[39m: 'tuple' object has no attribute 'head'"
     ]
    }
   ],
   "source": [
    "print(df.head())"
   ]
  },
  {
   "cell_type": "code",
   "execution_count": null,
   "id": "2cddb906-7b7f-4db0-a33f-1a376ee6fa8e",
   "metadata": {},
   "outputs": [],
   "source": []
  }
 ],
 "metadata": {
  "kernelspec": {
   "display_name": "Python 3 (ipykernel)",
   "language": "python",
   "name": "python3"
  },
  "language_info": {
   "codemirror_mode": {
    "name": "ipython",
    "version": 3
   },
   "file_extension": ".py",
   "mimetype": "text/x-python",
   "name": "python",
   "nbconvert_exporter": "python",
   "pygments_lexer": "ipython3",
   "version": "3.13.5"
  }
 },
 "nbformat": 4,
 "nbformat_minor": 5
}
