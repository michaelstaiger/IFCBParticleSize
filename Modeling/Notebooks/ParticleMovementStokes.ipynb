{
 "cells": [
  {
   "cell_type": "markdown",
   "id": "676f457c-8a06-4a72-a594-906cc172dae1",
   "metadata": {},
   "source": [
    "## Want to understand how an ideal particle moves in an ideal world in the IFCB Syringe\n",
    "\n",
    "### We can use navier stokes equations and reynolds numbers to understand and predict this motion\n",
    "\n",
    "#### Most Basic Example  \n",
    "Model one particle size that is a percect sphere in a cylinder with no wall effects and no flow in the syringe ie it is not being depressed analagous to drawing up the syringe and just waiting to see how things settle\n",
    "Then can build and add complexity from there\n",
    "\n"
   ]
  },
  {
   "cell_type": "code",
   "execution_count": null,
   "id": "f140f04b-e5bd-4816-a396-291096d69524",
   "metadata": {},
   "outputs": [],
   "source": []
  }
 ],
 "metadata": {
  "kernelspec": {
   "display_name": "Python 3 (ipykernel)",
   "language": "python",
   "name": "python3"
  },
  "language_info": {
   "codemirror_mode": {
    "name": "ipython",
    "version": 3
   },
   "file_extension": ".py",
   "mimetype": "text/x-python",
   "name": "python",
   "nbconvert_exporter": "python",
   "pygments_lexer": "ipython3",
   "version": "3.13.5"
  }
 },
 "nbformat": 4,
 "nbformat_minor": 5
}
