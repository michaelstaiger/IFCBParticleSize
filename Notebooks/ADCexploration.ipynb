{
 "cells": [
  {
   "cell_type": "markdown",
   "id": "f075ba2d-879f-4fd5-9ade-e5a42d48305a",
   "metadata": {},
   "source": [
    "Trying to use chat to read in and rormat adc files \n",
    "\n"
   ]
  },
  {
   "cell_type": "code",
   "execution_count": null,
   "id": "74f852ef-a970-47a5-a17b-7c6f1e17616f",
   "metadata": {},
   "outputs": [],
   "source": []
  },
  {
   "cell_type": "code",
   "execution_count": 1,
   "id": "3d87970a-1d85-4600-ad2f-d04532bc9777",
   "metadata": {},
   "outputs": [
    {
     "name": "stdout",
     "output_type": "stream",
     "text": [
      "   trigger#   ADCtime      PMTA      PMTB      PMTC      PMTD     PeakA  \\\n",
      "0         1  0.050252  0.000935  0.000955  0.001431  0.001512  0.012803   \n",
      "1         2  6.354038  0.010157  0.006074  0.002813  0.004811  0.101426   \n",
      "2         3  6.788669  0.382052  0.462934  0.002982  0.006429  1.219020   \n",
      "3         3  6.788669  0.382052  0.462934  0.002982  0.006429  1.219020   \n",
      "4         4  6.953710  0.001927  0.007463  0.002810  0.004696  0.055563   \n",
      "\n",
      "      PeakB     PeakC     PeakD  ...  RoiY  RoiWidth  RoiHeight  StartByte  \\\n",
      "0  0.012467  0.014577  0.018344  ...     0         0          0          0   \n",
      "1  0.022662  0.014827  0.018508  ...   630       192        100          0   \n",
      "2  3.362889  0.015244  0.018942  ...   518       360        212      19200   \n",
      "3  3.362889  0.015244  0.018942  ...   670        80         60      95520   \n",
      "4  0.106032  0.014894  0.018578  ...   774        72         44     100320   \n",
      "\n",
      "   ComparatorOut  StartPoint  SignalLength  Status   RunTime  InhibitTime  \n",
      "0              0           0             0       0  0.071187     0.000000  \n",
      "1              0           0             0       0  6.375004     0.070996  \n",
      "2              0           0             0       0  6.809937     0.152806  \n",
      "3              0           0             0       0  6.809937     0.152806  \n",
      "4              0           0             0       0  6.974722     0.234607  \n",
      "\n",
      "[5 rows x 24 columns]\n"
     ]
    }
   ],
   "source": [
    "import pandas as pd\n",
    "\n",
    "def extract_adc_headers(hdr_file_path):\n",
    "    \"\"\"\n",
    "    Extracts the ADCFileFormat headers from a .hdr file.\n",
    "    \"\"\"\n",
    "    with open(hdr_file_path, 'r') as file:\n",
    "        for line in file:\n",
    "            if line.startswith(\"ADCFileFormat:\"):\n",
    "                header_line = line.strip().split(\":\", 1)[1]\n",
    "                headers = [h.strip() for h in header_line.split(\",\")]\n",
    "                return headers\n",
    "    raise ValueError(\"ADCFileFormat not found in header file.\")\n",
    "\n",
    "def load_adc_data(adc_file_path, headers):\n",
    "    \"\"\"\n",
    "    Loads the .adc file and applies the given headers to the DataFrame.\n",
    "    \"\"\"\n",
    "    df = pd.read_csv(adc_file_path, header=None)\n",
    "    df.columns = headers[:df.shape[1]]  # Handle case where fewer headers than columns\n",
    "    return df\n",
    "\n",
    "def main(hdr_path, adc_path):\n",
    "    headers = extract_adc_headers(hdr_path)\n",
    "    adc_df = load_adc_data(adc_path, headers)\n",
    "    return adc_df\n",
    "\n",
    "# Example usage:\n",
    "if __name__ == \"__main__\":\n",
    "    hdr_file = \"D20240418T084427_IFCB124.hdr\"\n",
    "    adc_file = \"D20240418T084427_IFCB124.adc\"\n",
    "    \n",
    "    df = main(hdr_file, adc_file)\n",
    "    print(df.head())  # or df.to_csv(\"output.csv\", index=False) to save\n"
   ]
  },
  {
   "cell_type": "code",
   "execution_count": 80,
   "id": "f01b3d34-b40a-4a6a-982c-c68ab92e67b3",
   "metadata": {},
   "outputs": [
    {
     "name": "stdout",
     "output_type": "stream",
     "text": [
      "      trigger#      ADCtime      PMTA      PMTB      PMTC      PMTD     PeakA  \\\n",
      "4114      3724  1199.856117  0.001689  0.009524  0.002846  0.004904  0.040107   \n",
      "4115      3725  1200.139796  0.002063  0.006877  0.002801  0.004892  0.084679   \n",
      "4116      3725  1200.139796  0.002063  0.006877  0.002801  0.004892  0.084679   \n",
      "4117      3726  1200.627856  0.008771  0.322509  0.002859  0.005385  0.118332   \n",
      "4118      3727  1200.737582  0.002055  0.007907  0.002781  0.004823  0.068109   \n",
      "\n",
      "         PeakB     PeakC     PeakD  ...  RoiHeight  StartByte  ComparatorOut  \\\n",
      "4114  0.201244  0.014932  0.018563  ...         44   62398544              0   \n",
      "4115  0.087030  0.014946  0.018613  ...         44   62401360              0   \n",
      "4116  0.087030  0.014946  0.018613  ...         44   62403824              0   \n",
      "4117  3.204517  0.015130  0.018804  ...        108   62406640              0   \n",
      "4118  0.087471  0.014925  0.018616  ...         52   62422192              0   \n",
      "\n",
      "      StartPoint  SignalLength  Status      RunTime  InhibitTime  \\\n",
      "4114           0             0       0  1199.937917   304.464132   \n",
      "4115           0             0       0  1200.221528   304.545521   \n",
      "4116           0             0       0  1200.221528   304.545521   \n",
      "4117           0             0       0  1200.710417   304.627569   \n",
      "4118           0             0       0  1200.819306   304.709028   \n",
      "\n",
      "      InhibitTimeDiff  RoiNumber  \n",
      "4114         0.081493       4115  \n",
      "4115         0.081389       4116  \n",
      "4116         0.000000       4117  \n",
      "4117         0.082049       4118  \n",
      "4118         0.081458       4119  \n",
      "\n",
      "[5 rows x 26 columns]\n",
      "Index(['trigger#', 'ADCtime', 'PMTA', 'PMTB', 'PMTC', 'PMTD', 'PeakA', 'PeakB',\n",
      "       'PeakC', 'PeakD', 'TimeOfFlight', 'GrabTimeStart', 'GrabTimeEnd',\n",
      "       'RoiX', 'RoiY', 'RoiWidth', 'RoiHeight', 'StartByte', 'ComparatorOut',\n",
      "       'StartPoint', 'SignalLength', 'Status', 'RunTime', 'InhibitTime',\n",
      "       'InhibitTimeDiff', 'RoiNumber'],\n",
      "      dtype='object')\n"
     ]
    }
   ],
   "source": [
    "print(df.tail())\n",
    "print(df.columns)"
   ]
  },
  {
   "cell_type": "code",
   "execution_count": 21,
   "id": "dd2b3997-69b6-4b5e-87e0-45b6e2f293d0",
   "metadata": {},
   "outputs": [
    {
     "name": "stdout",
     "output_type": "stream",
     "text": [
      "    ADCtime  GrabTimeStart  GrabTimeEnd   RunTime  InhibitTime  \\\n",
      "0  0.050252       0.050252     0.092326  0.071187     0.000000   \n",
      "1  6.354038       6.354038     6.396017  6.375004     0.070996   \n",
      "2  6.788669       6.788669     6.830955  6.809937     0.152806   \n",
      "3  6.788669       6.788669     6.830955  6.809937     0.152806   \n",
      "4  6.953710       6.953710     6.995728  6.974722     0.234607   \n",
      "\n",
      "   InhibitTimeDiff  \n",
      "0         0.000000  \n",
      "1         0.070996  \n",
      "2         0.081810  \n",
      "3         0.000000  \n",
      "4         0.081801  \n"
     ]
    }
   ],
   "source": [
    "print(df[['ADCtime', 'GrabTimeStart', 'GrabTimeEnd', 'RunTime', 'InhibitTime','InhibitTimeDiff']].head())"
   ]
  },
  {
   "cell_type": "markdown",
   "id": "ca79da09-c398-4e6f-8471-1561879d1fe2",
   "metadata": {},
   "source": [
    "### ADC Names and what they mean\n",
    "trigger#, which trigger number the roi is associated this is not unique can have double or tripple rois\n",
    "\n",
    "ADCtime, counts up from 0 to 1200 s or 20m this is likely at what time since the beginning of the sample did this trigger happen\n",
    "\n",
    "PMTA, PMTB, PMTC, PMTD, electrical values of pmts\n",
    "\n",
    "PeakA, PeakB, PeakC, PeakD, \n",
    "\n",
    "TimeOfFlight, \n",
    "\n",
    "GrabTimeStart, \n",
    "\n",
    "GrabTimeEnd,\n",
    "\n",
    "RoiX, RoiY, RoiWidth, RoiHeight,\n",
    "\n",
    "StartByte,\n",
    "\n",
    "ComparatorOut,\n",
    "\n",
    "StartPoint,\n",
    "\n",
    "SignalLength,\n",
    "\n",
    "Status,\n",
    "\n",
    "RunTime, running tally of total time\n",
    "\n",
    "InhibitTime running tally of time when we are not imaging\n"
   ]
  },
  {
   "cell_type": "markdown",
   "id": "b8ccf9e1-8581-445d-8fdc-f6d5a60a49f4",
   "metadata": {},
   "source": [
    "## how to calculate volume analyzed\n",
    "\n",
    "Instantaneous estimates of sample volume analyzed will be:\n",
    "\n",
    "[run_time - inhibit_time]/[240]\n",
    "\n",
    "Alternatively, it may be possible to update run_time as grab_time_end since that's the point in time when last trigger image capture ended. So:\n",
    "\n",
    "[grab_time_end - inhibit_time]/[240]\n",
    "\n",
    "The '240' is the number of seconds required to analyze 1 mL of sample so result is in mL. If inhibit_time isn't reported directly by IFCBacq trigger report, it might be estimated instead as a running sum of [grab_time_end - grab_time_start].\n",
    "\n",
    "\n",
    "\n",
    "so if we want to create "
   ]
  },
  {
   "cell_type": "code",
   "execution_count": 24,
   "id": "5dfa0db6-7e77-414b-b23a-1c6d2066252a",
   "metadata": {},
   "outputs": [
    {
     "name": "stdout",
     "output_type": "stream",
     "text": [
      "   trigger#   ADCtime      PMTA      PMTB      PMTC      PMTD     PeakA  \\\n",
      "0         1  0.050252  0.000935  0.000955  0.001431  0.001512  0.012803   \n",
      "1         2  6.354038  0.010157  0.006074  0.002813  0.004811  0.101426   \n",
      "2         3  6.788669  0.382052  0.462934  0.002982  0.006429  1.219020   \n",
      "3         3  6.788669  0.382052  0.462934  0.002982  0.006429  1.219020   \n",
      "4         4  6.953710  0.001927  0.007463  0.002810  0.004696  0.055563   \n",
      "\n",
      "      PeakB     PeakC     PeakD  ...  RoiWidth  RoiHeight  StartByte  \\\n",
      "0  0.012467  0.014577  0.018344  ...         0          0          0   \n",
      "1  0.022662  0.014827  0.018508  ...       192        100          0   \n",
      "2  3.362889  0.015244  0.018942  ...       360        212      19200   \n",
      "3  3.362889  0.015244  0.018942  ...        80         60      95520   \n",
      "4  0.106032  0.014894  0.018578  ...        72         44     100320   \n",
      "\n",
      "   ComparatorOut  StartPoint  SignalLength  Status   RunTime  InhibitTime  \\\n",
      "0              0           0             0       0  0.071187     0.000000   \n",
      "1              0           0             0       0  6.375004     0.070996   \n",
      "2              0           0             0       0  6.809937     0.152806   \n",
      "3              0           0             0       0  6.809937     0.152806   \n",
      "4              0           0             0       0  6.974722     0.234607   \n",
      "\n",
      "   InhibitTimeDiff  \n",
      "0         0.000000  \n",
      "1         0.070996  \n",
      "2         0.081810  \n",
      "3         0.000000  \n",
      "4         0.081801  \n",
      "\n",
      "[5 rows x 25 columns]\n"
     ]
    }
   ],
   "source": [
    "# creating a value for each individual inhibit time of each sample and replaces leading NaN with 0.000\n",
    "df['InhibitTimeDiff'] = df['InhibitTime'].diff().fillna(0)\n",
    "print(df.head())"
   ]
  },
  {
   "cell_type": "code",
   "execution_count": 26,
   "id": "e32000fd-5290-4095-9589-133d85bcc48e",
   "metadata": {},
   "outputs": [],
   "source": [
    "#save this df\n",
    "df.to_csv('output.csv', index=False)"
   ]
  },
  {
   "cell_type": "code",
   "execution_count": 11,
   "id": "b6ea08f0-0b62-49b2-8b4e-421ee0593197",
   "metadata": {},
   "outputs": [
    {
     "data": {
      "image/png": "[encoded data removed]",
      "text/plain": [
       "<Figure size 640x480 with 1 Axes>"
      ]
     },
     "metadata": {},
     "output_type": "display_data"
    }
   ],
   "source": [
    "# plotting histogram of this diff time\n",
    "import matplotlib.pyplot as plt\n",
    "\n",
    "# Create histogram\n",
    "df['InhibitTimeDiff'].hist(bins=30)  # You can adjust the number of bins\n",
    "\n",
    "# Add labels and title\n",
    "plt.xlabel('Inhibit Time Difference (s)')\n",
    "plt.ylabel('Frequency')\n",
    "plt.title('Histogram of Inhibit Time Differences')\n",
    "\n",
    "# Show the plot\n",
    "plt.show()"
   ]
  },
  {
   "cell_type": "code",
   "execution_count": 16,
   "id": "6833e491-cb3e-4a6d-b30b-b689d7c1caa8",
   "metadata": {},
   "outputs": [
    {
     "data": {
      "image/png": "[encoded data removed]",
      "text/plain": [
       "<Figure size 640x480 with 1 Axes>"
      ]
     },
     "metadata": {},
     "output_type": "display_data"
    }
   ],
   "source": [
    "#removing the 0 values for double rois to see more of the actual data visualized\n",
    "filtered_df = df[df['InhibitTimeDiff'] != 0]\n",
    "\n",
    "\n",
    "# plotting histogram of this diff time\n",
    "import matplotlib.pyplot as plt\n",
    "\n",
    "# Create histogram\n",
    "filtered_df['InhibitTimeDiff'].hist(bins=30)  # You can adjust the number of bins\n",
    "\n",
    "# Add labels and title\n",
    "plt.xlabel('Inhibit Time Difference (s)')\n",
    "plt.ylabel('Frequency')\n",
    "plt.title('Histogram of Inhibit Time Differences')\n",
    "plt.xlim(0.076,0.084)\n",
    "\n",
    "# Show the plot\n",
    "plt.show()"
   ]
  },
  {
   "cell_type": "markdown",
   "id": "d1054590-3fa3-4d71-9d12-ee4347438991",
   "metadata": {},
   "source": [
    "So average is very tightly about 0.081 seconds with a lot of 0 values for double rois \n"
   ]
  },
  {
   "cell_type": "code",
   "execution_count": null,
   "id": "d2017157-0fcd-4f12-98aa-ee1803263b02",
   "metadata": {},
   "outputs": [],
   "source": []
  },
  {
   "cell_type": "code",
   "execution_count": 66,
   "id": "40e87145-530e-4f3c-bc09-033e0ba8ae71",
   "metadata": {},
   "outputs": [
    {
     "name": "stdout",
     "output_type": "stream",
     "text": [
      "0     D20240418T084427_IFCB124_00002\n",
      "1     D20240418T084427_IFCB124_00003\n",
      "2     D20240418T084427_IFCB124_00004\n",
      "3     D20240418T084427_IFCB124_00005\n",
      "4     D20240418T084427_IFCB124_00006\n",
      "5     D20240418T084427_IFCB124_00007\n",
      "6     D20240418T084427_IFCB124_00008\n",
      "7     D20240418T084427_IFCB124_00009\n",
      "8     D20240418T084427_IFCB124_00010\n",
      "9     D20240418T084427_IFCB124_00011\n",
      "10    D20240418T084427_IFCB124_00012\n",
      "11    D20240418T084427_IFCB124_00013\n",
      "12    D20240418T084427_IFCB124_00014\n",
      "13    D20240418T084427_IFCB124_00015\n",
      "14    D20240418T084427_IFCB124_00016\n",
      "15    D20240418T084427_IFCB124_00017\n",
      "16    D20240418T084427_IFCB124_00018\n",
      "17    D20240418T084427_IFCB124_00019\n",
      "18    D20240418T084427_IFCB124_00020\n",
      "19    D20240418T084427_IFCB124_00021\n",
      "20    D20240418T084427_IFCB124_00022\n",
      "21    D20240418T084427_IFCB124_00023\n",
      "22    D20240418T084427_IFCB124_00024\n",
      "23    D20240418T084427_IFCB124_00025\n",
      "24    D20240418T084427_IFCB124_00026\n",
      "25    D20240418T084427_IFCB124_00027\n",
      "26    D20240418T084427_IFCB124_00028\n",
      "27    D20240418T084427_IFCB124_00029\n",
      "28    D20240418T084427_IFCB124_00030\n",
      "29    D20240418T084427_IFCB124_00031\n",
      "30    D20240418T084427_IFCB124_00032\n",
      "31    D20240418T084427_IFCB124_00033\n",
      "32    D20240418T084427_IFCB124_00034\n",
      "33    D20240418T084427_IFCB124_00035\n",
      "34    D20240418T084427_IFCB124_00036\n",
      "35    D20240418T084427_IFCB124_00037\n",
      "36    D20240418T084427_IFCB124_00038\n",
      "37    D20240418T084427_IFCB124_00039\n",
      "38    D20240418T084427_IFCB124_00040\n",
      "39    D20240418T084427_IFCB124_00041\n",
      "40    D20240418T084427_IFCB124_00042\n",
      "41    D20240418T084427_IFCB124_00043\n",
      "42    D20240418T084427_IFCB124_00044\n",
      "43    D20240418T084427_IFCB124_00045\n",
      "44    D20240418T084427_IFCB124_00046\n",
      "45    D20240418T084427_IFCB124_00047\n",
      "46    D20240418T084427_IFCB124_00048\n",
      "47    D20240418T084427_IFCB124_00049\n",
      "48    D20240418T084427_IFCB124_00050\n",
      "49    D20240418T084427_IFCB124_00051\n",
      "Name: pid, dtype: object\n"
     ]
    }
   ],
   "source": [
    "## load in a class file to see if there is a var we can use to bind two df together\n",
    "\n",
    "classdf = pd.read_csv('D20240418T084427_IFCB124_class_vNone.csv')\n",
    "print(classdf['pid'].head(n=50))"
   ]
  },
  {
   "cell_type": "code",
   "execution_count": 58,
   "id": "6ec2ce62-3f63-4395-9ba6-4be7add303b0",
   "metadata": {},
   "outputs": [
    {
     "name": "stdout",
     "output_type": "stream",
     "text": [
      "Index(['pid', 'Alexandrium_catenella',\n",
      "       'Alexandrium_catenella_TAG_2cell_TAG_chain',\n",
      "       'Alexandrium_catenella_TAG_4cell_TAG_chain',\n",
      "       'Alexandrium_catenella_TAG_dividing',\n",
      "       'Alexandrium_catenella_TAG_fusing', 'Amoeba', 'Amylax', 'Apedinella',\n",
      "       'Asterionellopsis_glacialis',\n",
      "       ...\n",
      "       'fecal_pellet', 'fiber', 'fiber_TAG_external_detritus', 'flagellate',\n",
      "       'flagellate_morphotype1', 'flagellate_morphotype3', 'pennate',\n",
      "       'pollen_spikey_dino', 'unknown2', 'RoiNumber'],\n",
      "      dtype='object', length=138)\n"
     ]
    }
   ],
   "source": [
    "print(classdf.columns)"
   ]
  },
  {
   "cell_type": "code",
   "execution_count": 54,
   "id": "a38e5759-1914-4802-ba43-0ce7ba9a51b3",
   "metadata": {},
   "outputs": [
    {
     "name": "stdout",
     "output_type": "stream",
     "text": [
      "4113\n",
      "4119\n",
      "4113\n"
     ]
    }
   ],
   "source": [
    "#shows diff in rows between adc triggers and rois however \n",
    "print(classdf.shape[0])\n",
    "print(df.shape[0])\n",
    "print(cleaned_df.shape[0])\n"
   ]
  },
  {
   "cell_type": "code",
   "execution_count": 81,
   "id": "23187342-9f78-47b8-8b2a-8598f28d8232",
   "metadata": {},
   "outputs": [],
   "source": [
    "import pandas as pd\n",
    "\n",
    "def remove_zero_roi_rows(df):\n",
    "    \"\"\"\n",
    "    Remove rows from a DataFrame where RoiX, RoiY, RoiHeight, and RoiWidth are all 0.\n",
    "    Returns a new cleaned DataFrame.\n",
    "    \"\"\"\n",
    "    cleandf = df[~((df['RoiX'] == 0) & (df['RoiY'] == 0) &\n",
    "                   (df['RoiHeight'] == 0) & (df['RoiWidth'] == 0))]\n",
    "\n",
    "    print(f\"Removed {len(df) - len(cleandf)} rows.\")\n",
    "    return cleandf\n",
    "\n",
    "# Example usage:\n",
    "# df = pd.read_csv(\"your_input_file.csv\")\n",
    "# cleandf = remove_zero_roi_rows(df)"
   ]
  },
  {
   "cell_type": "code",
   "execution_count": 82,
   "id": "2ba3f336-fe25-43ae-8799-42a77fa815ae",
   "metadata": {},
   "outputs": [
    {
     "name": "stdout",
     "output_type": "stream",
     "text": [
      "Removed 6 rows.\n",
      "4113\n"
     ]
    }
   ],
   "source": [
    "cleaned_df = remove_zero_roi_rows(df)\n",
    "print(cleaned_df.shape[0]) # this should match class value"
   ]
  },
  {
   "cell_type": "markdown",
   "id": "b17ab1ea-962b-4b50-916a-a4f8c51f4588",
   "metadata": {},
   "source": [
    "# can we just merge based on index number now? How does PID relate to roi ?? trigger is not the same at all but how can we relate adc files denoted by trigger to class files -- is there an intermediate step"
   ]
  },
  {
   "cell_type": "code",
   "execution_count": 83,
   "id": "b344d1ce-1647-4303-b6ce-aa12084df8fd",
   "metadata": {},
   "outputs": [
    {
     "name": "stdout",
     "output_type": "stream",
     "text": [
      "      trigger#      ADCtime      PMTA      PMTB      PMTC      PMTD     PeakA  \\\n",
      "4114      3724  1199.856117  0.001689  0.009524  0.002846  0.004904  0.040107   \n",
      "4115      3725  1200.139796  0.002063  0.006877  0.002801  0.004892  0.084679   \n",
      "4116      3725  1200.139796  0.002063  0.006877  0.002801  0.004892  0.084679   \n",
      "4117      3726  1200.627856  0.008771  0.322509  0.002859  0.005385  0.118332   \n",
      "4118      3727  1200.737582  0.002055  0.007907  0.002781  0.004823  0.068109   \n",
      "\n",
      "         PeakB     PeakC     PeakD  ...  RoiHeight  StartByte  ComparatorOut  \\\n",
      "4114  0.201244  0.014932  0.018563  ...         44   62398544              0   \n",
      "4115  0.087030  0.014946  0.018613  ...         44   62401360              0   \n",
      "4116  0.087030  0.014946  0.018613  ...         44   62403824              0   \n",
      "4117  3.204517  0.015130  0.018804  ...        108   62406640              0   \n",
      "4118  0.087471  0.014925  0.018616  ...         52   62422192              0   \n",
      "\n",
      "      StartPoint  SignalLength  Status      RunTime  InhibitTime  \\\n",
      "4114           0             0       0  1199.937917   304.464132   \n",
      "4115           0             0       0  1200.221528   304.545521   \n",
      "4116           0             0       0  1200.221528   304.545521   \n",
      "4117           0             0       0  1200.710417   304.627569   \n",
      "4118           0             0       0  1200.819306   304.709028   \n",
      "\n",
      "      InhibitTimeDiff  RoiNumber  \n",
      "4114         0.081493       4115  \n",
      "4115         0.081389       4116  \n",
      "4116         0.000000       4117  \n",
      "4117         0.082049       4118  \n",
      "4118         0.081458       4119  \n",
      "\n",
      "[5 rows x 26 columns]\n"
     ]
    }
   ],
   "source": [
    "print(cleaned_df.tail())"
   ]
  },
  {
   "cell_type": "code",
   "execution_count": 49,
   "id": "05d61026-8a09-421d-be57-9c5829453de0",
   "metadata": {},
   "outputs": [],
   "source": [
    "\n",
    "# Add RoiNumber column starting from 1 in adc file\n",
    "cleaned_df['RoiNumber'] = range(1, len(cleaned_df) + 1)"
   ]
  },
  {
   "cell_type": "code",
   "execution_count": 55,
   "id": "d2b6f60e-98a3-4a59-af3e-c303a7fe545c",
   "metadata": {},
   "outputs": [
    {
     "ename": "KeyError",
     "evalue": "'pid'",
     "output_type": "error",
     "traceback": [
      "\u001b[31m---------------------------------------------------------------------------\u001b[39m",
      "\u001b[31mKeyError\u001b[39m                                  Traceback (most recent call last)",
      "\u001b[36mFile \u001b[39m\u001b[32m~/miniforge3/envs/carpentries/lib/python3.13/site-packages/pandas/core/indexes/base.py:3812\u001b[39m, in \u001b[36mIndex.get_loc\u001b[39m\u001b[34m(self, key)\u001b[39m\n\u001b[32m   3811\u001b[39m \u001b[38;5;28;01mtry\u001b[39;00m:\n\u001b[32m-> \u001b[39m\u001b[32m3812\u001b[39m     \u001b[38;5;28;01mreturn\u001b[39;00m \u001b[38;5;28;43mself\u001b[39;49m\u001b[43m.\u001b[49m\u001b[43m_engine\u001b[49m\u001b[43m.\u001b[49m\u001b[43mget_loc\u001b[49m\u001b[43m(\u001b[49m\u001b[43mcasted_key\u001b[49m\u001b[43m)\u001b[49m\n\u001b[32m   3813\u001b[39m \u001b[38;5;28;01mexcept\u001b[39;00m \u001b[38;5;167;01mKeyError\u001b[39;00m \u001b[38;5;28;01mas\u001b[39;00m err:\n",
      "\u001b[36mFile \u001b[39m\u001b[32mpandas/_libs/index.pyx:167\u001b[39m, in \u001b[36mpandas._libs.index.IndexEngine.get_loc\u001b[39m\u001b[34m()\u001b[39m\n",
      "\u001b[36mFile \u001b[39m\u001b[32mpandas/_libs/index.pyx:196\u001b[39m, in \u001b[36mpandas._libs.index.IndexEngine.get_loc\u001b[39m\u001b[34m()\u001b[39m\n",
      "\u001b[36mFile \u001b[39m\u001b[32mpandas/_libs/hashtable_class_helper.pxi:7088\u001b[39m, in \u001b[36mpandas._libs.hashtable.PyObjectHashTable.get_item\u001b[39m\u001b[34m()\u001b[39m\n",
      "\u001b[36mFile \u001b[39m\u001b[32mpandas/_libs/hashtable_class_helper.pxi:7096\u001b[39m, in \u001b[36mpandas._libs.hashtable.PyObjectHashTable.get_item\u001b[39m\u001b[34m()\u001b[39m\n",
      "\u001b[31mKeyError\u001b[39m: 'pid'",
      "\nThe above exception was the direct cause of the following exception:\n",
      "\u001b[31mKeyError\u001b[39m                                  Traceback (most recent call last)",
      "\u001b[36mCell\u001b[39m\u001b[36m \u001b[39m\u001b[32mIn[55]\u001b[39m\u001b[32m, line 24\u001b[39m\n\u001b[32m     18\u001b[39m \u001b[38;5;66;03m# Example usage:\u001b[39;00m\n\u001b[32m     19\u001b[39m \u001b[38;5;28;01mif\u001b[39;00m \u001b[34m__name__\u001b[39m == \u001b[33m\"\u001b[39m\u001b[33m__main__\u001b[39m\u001b[33m\"\u001b[39m:\n\u001b[32m     20\u001b[39m     \u001b[38;5;66;03m# Example loading a CSV (or replace with your actual DataFrame)\u001b[39;00m\n\u001b[32m     21\u001b[39m     \u001b[38;5;66;03m#classdf = pd.read_csv(\"your_dataframe.csv\")\u001b[39;00m\n\u001b[32m     22\u001b[39m \n\u001b[32m     23\u001b[39m     \u001b[38;5;66;03m# Extract RoiNumber from pid\u001b[39;00m\n\u001b[32m---> \u001b[39m\u001b[32m24\u001b[39m     classdf = \u001b[43mextract_roi_number_from_pid\u001b[49m\u001b[43m(\u001b[49m\u001b[43mclassdf\u001b[49m\u001b[43m)\u001b[49m\n\u001b[32m     26\u001b[39m     \u001b[38;5;66;03m# Save or display the result\u001b[39;00m\n\u001b[32m     27\u001b[39m     \u001b[38;5;28mprint\u001b[39m(classdf[[\u001b[33m'\u001b[39m\u001b[33mpid\u001b[39m\u001b[33m'\u001b[39m, \u001b[33m'\u001b[39m\u001b[33mRoiNumber\u001b[39m\u001b[33m'\u001b[39m]].head())\n",
      "\u001b[36mCell\u001b[39m\u001b[36m \u001b[39m\u001b[32mIn[55]\u001b[39m\u001b[32m, line 15\u001b[39m, in \u001b[36mextract_roi_number_from_pid\u001b[39m\u001b[34m(classdf, pid_column, new_column)\u001b[39m\n\u001b[32m      3\u001b[39m \u001b[38;5;250m\u001b[39m\u001b[33;03m\"\"\"\u001b[39;00m\n\u001b[32m      4\u001b[39m \u001b[33;03mExtracts the trailing numeric ROI identifier from a PID string and stores it as an integer in a new column.\u001b[39;00m\n\u001b[32m      5\u001b[39m \n\u001b[32m   (...)\u001b[39m\u001b[32m     12\u001b[39m \u001b[33;03m    pd.DataFrame: The updated DataFrame with the new RoiNumber column.\u001b[39;00m\n\u001b[32m     13\u001b[39m \u001b[33;03m\"\"\"\u001b[39;00m\n\u001b[32m     14\u001b[39m \u001b[38;5;66;03m# Split by underscore and take the last part, then convert to integer\u001b[39;00m\n\u001b[32m---> \u001b[39m\u001b[32m15\u001b[39m classdf[new_column] = \u001b[43mdf\u001b[49m\u001b[43m[\u001b[49m\u001b[43mpid_column\u001b[49m\u001b[43m]\u001b[49m.str.split(\u001b[33m'\u001b[39m\u001b[33m_\u001b[39m\u001b[33m'\u001b[39m).str[-\u001b[32m1\u001b[39m].astype(\u001b[38;5;28mint\u001b[39m)\n\u001b[32m     16\u001b[39m \u001b[38;5;28;01mreturn\u001b[39;00m classdf\n",
      "\u001b[36mFile \u001b[39m\u001b[32m~/miniforge3/envs/carpentries/lib/python3.13/site-packages/pandas/core/frame.py:4107\u001b[39m, in \u001b[36mDataFrame.__getitem__\u001b[39m\u001b[34m(self, key)\u001b[39m\n\u001b[32m   4105\u001b[39m \u001b[38;5;28;01mif\u001b[39;00m \u001b[38;5;28mself\u001b[39m.columns.nlevels > \u001b[32m1\u001b[39m:\n\u001b[32m   4106\u001b[39m     \u001b[38;5;28;01mreturn\u001b[39;00m \u001b[38;5;28mself\u001b[39m._getitem_multilevel(key)\n\u001b[32m-> \u001b[39m\u001b[32m4107\u001b[39m indexer = \u001b[38;5;28;43mself\u001b[39;49m\u001b[43m.\u001b[49m\u001b[43mcolumns\u001b[49m\u001b[43m.\u001b[49m\u001b[43mget_loc\u001b[49m\u001b[43m(\u001b[49m\u001b[43mkey\u001b[49m\u001b[43m)\u001b[49m\n\u001b[32m   4108\u001b[39m \u001b[38;5;28;01mif\u001b[39;00m is_integer(indexer):\n\u001b[32m   4109\u001b[39m     indexer = [indexer]\n",
      "\u001b[36mFile \u001b[39m\u001b[32m~/miniforge3/envs/carpentries/lib/python3.13/site-packages/pandas/core/indexes/base.py:3819\u001b[39m, in \u001b[36mIndex.get_loc\u001b[39m\u001b[34m(self, key)\u001b[39m\n\u001b[32m   3814\u001b[39m     \u001b[38;5;28;01mif\u001b[39;00m \u001b[38;5;28misinstance\u001b[39m(casted_key, \u001b[38;5;28mslice\u001b[39m) \u001b[38;5;129;01mor\u001b[39;00m (\n\u001b[32m   3815\u001b[39m         \u001b[38;5;28misinstance\u001b[39m(casted_key, abc.Iterable)\n\u001b[32m   3816\u001b[39m         \u001b[38;5;129;01mand\u001b[39;00m \u001b[38;5;28many\u001b[39m(\u001b[38;5;28misinstance\u001b[39m(x, \u001b[38;5;28mslice\u001b[39m) \u001b[38;5;28;01mfor\u001b[39;00m x \u001b[38;5;129;01min\u001b[39;00m casted_key)\n\u001b[32m   3817\u001b[39m     ):\n\u001b[32m   3818\u001b[39m         \u001b[38;5;28;01mraise\u001b[39;00m InvalidIndexError(key)\n\u001b[32m-> \u001b[39m\u001b[32m3819\u001b[39m     \u001b[38;5;28;01mraise\u001b[39;00m \u001b[38;5;167;01mKeyError\u001b[39;00m(key) \u001b[38;5;28;01mfrom\u001b[39;00m\u001b[38;5;250m \u001b[39m\u001b[34;01merr\u001b[39;00m\n\u001b[32m   3820\u001b[39m \u001b[38;5;28;01mexcept\u001b[39;00m \u001b[38;5;167;01mTypeError\u001b[39;00m:\n\u001b[32m   3821\u001b[39m     \u001b[38;5;66;03m# If we have a listlike key, _check_indexing_error will raise\u001b[39;00m\n\u001b[32m   3822\u001b[39m     \u001b[38;5;66;03m#  InvalidIndexError. Otherwise we fall through and re-raise\u001b[39;00m\n\u001b[32m   3823\u001b[39m     \u001b[38;5;66;03m#  the TypeError.\u001b[39;00m\n\u001b[32m   3824\u001b[39m     \u001b[38;5;28mself\u001b[39m._check_indexing_error(key)\n",
      "\u001b[31mKeyError\u001b[39m: 'pid'"
     ]
    }
   ],
   "source": [
    "#extract roi from PID from class files\n",
    "def extract_roi_number_from_pid(classdf, pid_column='pid', new_column='RoiNumber'):\n",
    "    \"\"\"\n",
    "    Extracts the trailing numeric ROI identifier from a PID string and stores it as an integer in a new column.\n",
    "    \n",
    "    Args:\n",
    "        df (pd.DataFrame): The DataFrame containing the PID column.\n",
    "        pid_column (str): The name of the column containing PID strings.\n",
    "        new_column (str): The name of the new column to store the extracted ROI number.\n",
    "    \n",
    "    Returns:\n",
    "        pd.DataFrame: The updated DataFrame with the new RoiNumber column.\n",
    "    \"\"\"\n",
    "    # Split by underscore and take the last part, then convert to integer\n",
    "    classdf[new_column] = df[pid_column].str.split('_').str[-1].astype(int)\n",
    "    return classdf\n",
    "\n",
    "# Example usage:\n",
    "if __name__ == \"__main__\":\n",
    "    # Example loading a CSV (or replace with your actual DataFrame)\n",
    "    #classdf = pd.read_csv(\"your_dataframe.csv\")\n",
    "\n",
    "    # Extract RoiNumber from pid\n",
    "    classdf = extract_roi_number_from_pid(classdf)\n",
    "\n",
    "    # Save or display the result\n",
    "    print(classdf[['pid', 'RoiNumber']].head())\n",
    "    # df.to_csv(\"output_with_roi.csv\", index=False)"
   ]
  },
  {
   "cell_type": "code",
   "execution_count": 73,
   "id": "99417c5b-8a93-4301-8a53-77ee7030507f",
   "metadata": {},
   "outputs": [],
   "source": [
    "#splitting the pid column into just its trailing roi number and saving that as a new column as a int\n",
    "classdf['RoiNumber'] = classdf['pid'].str.split('_').str[-1].astype(int)\n"
   ]
  },
  {
   "cell_type": "code",
   "execution_count": 72,
   "id": "be02dec6-34e4-40c1-80a8-0c885d89e9d8",
   "metadata": {},
   "outputs": [
    {
     "name": "stdout",
     "output_type": "stream",
     "text": [
      "4063    4070\n",
      "4064    4071\n",
      "4065    4072\n",
      "4066    4073\n",
      "4067    4074\n",
      "4068    4075\n",
      "4069    4076\n",
      "4070    4077\n",
      "4071    4078\n",
      "4072    4079\n",
      "4073    4080\n",
      "4074    4081\n",
      "4075    4082\n",
      "4076    4083\n",
      "4077    4084\n",
      "4078    4085\n",
      "4079    4086\n",
      "4080    4087\n",
      "4081    4088\n",
      "4082    4089\n",
      "4083    4090\n",
      "4084    4091\n",
      "4085    4092\n",
      "4086    4093\n",
      "4087    4094\n",
      "4088    4095\n",
      "4089    4096\n",
      "4090    4097\n",
      "4091    4098\n",
      "4092    4099\n",
      "4093    4100\n",
      "4094    4101\n",
      "4095    4102\n",
      "4096    4103\n",
      "4097    4104\n",
      "4098    4105\n",
      "4099    4106\n",
      "4100    4107\n",
      "4101    4108\n",
      "4102    4109\n",
      "4103    4110\n",
      "4104    4111\n",
      "4105    4112\n",
      "4106    4113\n",
      "4107    4114\n",
      "4108    4115\n",
      "4109    4116\n",
      "4110    4117\n",
      "4111    4118\n",
      "4112    4119\n",
      "Name: RoiNumber, dtype: int64\n"
     ]
    }
   ],
   "source": [
    "print(classdf['RoiNumber'].tail(n=50))\n"
   ]
  },
  {
   "cell_type": "code",
   "execution_count": 70,
   "id": "86dbe93c-9110-4cf9-b3d6-e6d9fd2c961b",
   "metadata": {},
   "outputs": [
    {
     "name": "stdout",
     "output_type": "stream",
     "text": [
      "['pid', 'Alexandrium_catenella', 'Alexandrium_catenella_TAG_2cell_TAG_chain', 'Alexandrium_catenella_TAG_4cell_TAG_chain', 'Alexandrium_catenella_TAG_dividing', 'Alexandrium_catenella_TAG_fusing', 'Amoeba', 'Amylax', 'Apedinella', 'Asterionellopsis_glacialis', 'Bacillariophyceae_morphotype1', 'Balanion', 'Calciopappus', 'Cerataulina_pelagica', 'Chaetoceros', 'Chaetoceros_TAG_external_pennate', 'Chaetoceros_didymus', 'Chaetoceros_didymus_TAG_external_flagellate', 'Chaetoceros_morphotype1', 'Chaetoceros_similis', 'Chaetoceros_socialis', 'Chaetoceros_subtilis', 'Chaetoceros_tenuissimus', 'Chrysochromulina', 'Chrysochromulina_lanceolata', 'Ciliophora', 'Copepod_nauplii', 'Corethron_hystrix', 'Corymbellus', 'Coscinodiscus', 'Cryptophyta', 'Cylindrotheca', 'Dactyliosolen_blavyanus', 'Dactyliosolen_fragilissimus', 'Delphineis', 'Dictyocha', 'Dinobryon', 'Dinophysis_acuminata', 'Dinophysis_acuminata_TAG_dividing', 'Dinophysis_acuminata_TAG_mating', 'Dinophysis_norvegica', 'Ditylum_brightwellii', 'Ephemera', 'Eucampia', 'Eucampia_morphytype1', 'Euglena', 'Euplotes', 'Euplotes_morphotype1', 'Eutintinnus', 'Favella', 'Fragilariopsis', 'Gonyaulax', 'Guinardia_delicatula', 'Guinardia_delicatula_TAG_external_parasite', 'Guinardia_delicatula_TAG_internal_parasite', 'Guinardia_flaccida', 'Guinardia_striata', 'Gymnodinium', 'Gyrodinium', 'Hemiaulus', 'Heterocapsa_rotundata', 'Katodinium_or_Torodinium', 'Kryptoperidinium_triquetrum', 'Laboea_strobila', 'Lauderia_annulata', 'Leegaardiella_ovalis', 'Leptocylindrus', 'Licmophora', 'Mesodinium', 'Navicula', 'Odontella', 'Ophiaster', 'Oxytoxum', 'Paralia_sulcata', 'Phaeocystis', 'Phaeocystis_debris', 'Phaeocystis_single', 'Pleuronema', 'Pleurosigma', 'Polykrikos', 'Prorocentrum', 'Prorocentrum_cordatum', 'Prorocentrum_dentatum', 'Prorocentrum_micans', 'Prorocentrum_triestinum', 'Proterythropsis', 'Pseudo-nitzschia', 'Pseudo-nitzschia_TAG_2cell', 'Pseudo-nitzschia_TAG_3cell', 'Pseudo-nitzschia_TAG_4cell', 'Pseudo-nitzschia_TAG_5cell', 'Pseudo-nitzschia_TAG_6cell', 'Pseudo-nitzschia_TAG_7cell', 'Pseudochattonella_farcimen', 'Pyramimonas', 'Pyramimonas_longicauda', 'Pyramimonas_morphotype1', 'Rhizosolenia', 'Skeletonema', 'Stenosemella_morphotype1', 'Stenosemella_pacifica', 'Stephanopyxis', 'Strombidium_capitatum', 'Strombidium_conicum', 'Strombidium_inclinatum', 'Strombidium_morphotype1', 'Strombidium_morphotype2', 'Strombidium_tintinnodes', 'Strombidium_wulffi', 'Syracosphaera_pulchra', 'Thalassionema', 'Thalassiosira', 'Thalassiosira_TAG_chain', 'Tiarina_fusus', 'Tintinnina', 'Tintinnopsis', 'Tontonia_appendiculariformis', 'Tripos_furca', 'Tripos_fusus', 'Tripos_lineatus', 'Tripos_muelleri', 'Warnowia', 'bad', 'bead', 'camera_spot', 'colony', 'detritus', 'detritus_transparent', 'fecal_pellet', 'fiber', 'fiber_TAG_external_detritus', 'flagellate', 'flagellate_morphotype1', 'flagellate_morphotype3', 'pennate', 'pollen_spikey_dino', 'unknown2', 'RoiNumber']\n"
     ]
    }
   ],
   "source": [
    "print(classdf.columns.tolist())"
   ]
  },
  {
   "cell_type": "code",
   "execution_count": 75,
   "id": "ad6caf9c-4c62-4baa-b8e8-3415c190012c",
   "metadata": {},
   "outputs": [
    {
     "name": "stdout",
     "output_type": "stream",
     "text": [
      "Duplicated RoiNumber values: []\n"
     ]
    }
   ],
   "source": [
    "#checking for repeats in the class rois\n",
    "# Find duplicated RoiNumber values\n",
    "duplicates = classdf['RoiNumber'][classdf['RoiNumber'].duplicated()]\n",
    "\n",
    "# Get unique RoiNumber values that are duplicated\n",
    "duplicated_values = duplicates.unique()\n",
    "\n",
    "print(\"Duplicated RoiNumber values:\", duplicated_values)\n",
    "\n",
    "\n"
   ]
  },
  {
   "cell_type": "markdown",
   "id": "d893bb7f-6cd1-4801-8e48-d7eef5b289b3",
   "metadata": {},
   "source": [
    "# Now I think I have classdf with roi numbers and cleaneddf with adc roi numbers lets check and see if they are the same and then we can try to merge them based on that value -- or we could just create a volume analyzed column and put just that onto the class file to save processing"
   ]
  },
  {
   "cell_type": "code",
   "execution_count": 78,
   "id": "abfecb48-005f-49d5-be4d-dc7bbbf2690c",
   "metadata": {},
   "outputs": [
    {
     "name": "stdout",
     "output_type": "stream",
     "text": [
      "4103    4104\n",
      "4104    4105\n",
      "4105    4106\n",
      "4106    4107\n",
      "4107    4108\n",
      "4108    4109\n",
      "4109    4110\n",
      "4110    4111\n",
      "4111    4112\n",
      "4112    4113\n",
      "Name: RoiNumber, dtype: int64\n",
      "4103    4110\n",
      "4104    4111\n",
      "4105    4112\n",
      "4106    4113\n",
      "4107    4114\n",
      "4108    4115\n",
      "4109    4116\n",
      "4110    4117\n",
      "4111    4118\n",
      "4112    4119\n",
      "Name: RoiNumber, dtype: int64\n"
     ]
    }
   ],
   "source": [
    "print(cleaned_df['RoiNumber'].tail(n=10))\n",
    "print(classdf['RoiNumber'].tail(n=10))"
   ]
  },
  {
   "cell_type": "markdown",
   "id": "125e0151-e520-4659-be20-7f5172eb1d71",
   "metadata": {},
   "source": [
    "# I wonder if what happened here is that actually zero rois do get a roi number so I need to first create the roi number or could I just use the trigger number"
   ]
  },
  {
   "cell_type": "code",
   "execution_count": 89,
   "id": "34c6e100-44cc-4e48-b21b-8c12e514decd",
   "metadata": {},
   "outputs": [
    {
     "name": "stdout",
     "output_type": "stream",
     "text": [
      "1      2\n",
      "2      3\n",
      "3      4\n",
      "4      5\n",
      "5      6\n",
      "6      7\n",
      "7      8\n",
      "8      9\n",
      "9     10\n",
      "10    11\n",
      "Name: RoiNumber, dtype: int64\n",
      "0     2\n",
      "1     3\n",
      "2     4\n",
      "3     5\n",
      "4     6\n",
      "5     7\n",
      "6     8\n",
      "7     9\n",
      "8    10\n",
      "9    11\n",
      "Name: RoiNumber, dtype: int64\n"
     ]
    }
   ],
   "source": [
    "print(cleaned_df['RoiNumber'].head(n=10))\n",
    "print(classdf['RoiNumber'].head(n=10))"
   ]
  },
  {
   "cell_type": "markdown",
   "id": "8e3b650e-4e71-4f62-8285-8016e668fcc4",
   "metadata": {},
   "source": [
    "# Nope so need to first asign roi numbers to each row then clear the zero rois then see if they match up"
   ]
  },
  {
   "cell_type": "code",
   "execution_count": 84,
   "id": "da08ca19-b057-461f-b011-45817edf724d",
   "metadata": {},
   "outputs": [
    {
     "name": "stdout",
     "output_type": "stream",
     "text": [
      "Removed 6 rows.\n",
      "4113\n",
      "      trigger#      ADCtime      PMTA      PMTB      PMTC      PMTD     PeakA  \\\n",
      "4114      3724  1199.856117  0.001689  0.009524  0.002846  0.004904  0.040107   \n",
      "4115      3725  1200.139796  0.002063  0.006877  0.002801  0.004892  0.084679   \n",
      "4116      3725  1200.139796  0.002063  0.006877  0.002801  0.004892  0.084679   \n",
      "4117      3726  1200.627856  0.008771  0.322509  0.002859  0.005385  0.118332   \n",
      "4118      3727  1200.737582  0.002055  0.007907  0.002781  0.004823  0.068109   \n",
      "\n",
      "         PeakB     PeakC     PeakD  ...  RoiHeight  StartByte  ComparatorOut  \\\n",
      "4114  0.201244  0.014932  0.018563  ...         44   62398544              0   \n",
      "4115  0.087030  0.014946  0.018613  ...         44   62401360              0   \n",
      "4116  0.087030  0.014946  0.018613  ...         44   62403824              0   \n",
      "4117  3.204517  0.015130  0.018804  ...        108   62406640              0   \n",
      "4118  0.087471  0.014925  0.018616  ...         52   62422192              0   \n",
      "\n",
      "      StartPoint  SignalLength  Status      RunTime  InhibitTime  \\\n",
      "4114           0             0       0  1199.937917   304.464132   \n",
      "4115           0             0       0  1200.221528   304.545521   \n",
      "4116           0             0       0  1200.221528   304.545521   \n",
      "4117           0             0       0  1200.710417   304.627569   \n",
      "4118           0             0       0  1200.819306   304.709028   \n",
      "\n",
      "      InhibitTimeDiff  RoiNumber  \n",
      "4114         0.081493       4115  \n",
      "4115         0.081389       4116  \n",
      "4116         0.000000       4117  \n",
      "4117         0.082049       4118  \n",
      "4118         0.081458       4119  \n",
      "\n",
      "[5 rows x 26 columns]\n"
     ]
    }
   ],
   "source": [
    "cleaned_df = remove_zero_roi_rows(df) #use this nifty function I made earlier\n",
    "print(cleaned_df.shape[0]) # this should match class value\n",
    "print(cleaned_df.tail())"
   ]
  },
  {
   "cell_type": "code",
   "execution_count": null,
   "id": "cb47401b-fef2-413f-a17e-88659b2c10c6",
   "metadata": {},
   "outputs": [],
   "source": [
    "# now check if roi cleaned is equal to roi class"
   ]
  },
  {
   "cell_type": "code",
   "execution_count": 85,
   "id": "0e4a128c-cc93-4469-b9ec-47128a53aa32",
   "metadata": {},
   "outputs": [
    {
     "name": "stdout",
     "output_type": "stream",
     "text": [
      "❌ RoiNumber columns are NOT the same.\n"
     ]
    }
   ],
   "source": [
    "if not cleaned_df['RoiNumber'].equals(classdf['RoiNumber']):\n",
    "    print(\"❌ RoiNumber columns are NOT the same.\")\n",
    "else:\n",
    "    print(\"✅ RoiNumber columns match exactly.\")\n"
   ]
  },
  {
   "cell_type": "code",
   "execution_count": 86,
   "id": "25c77c41-1541-4aa5-ae08-c2f0815cfc5a",
   "metadata": {},
   "outputs": [
    {
     "ename": "ValueError",
     "evalue": "Can only compare identically-labeled Series objects",
     "output_type": "error",
     "traceback": [
      "\u001b[31m---------------------------------------------------------------------------\u001b[39m",
      "\u001b[31mValueError\u001b[39m                                Traceback (most recent call last)",
      "\u001b[36mCell\u001b[39m\u001b[36m \u001b[39m\u001b[32mIn[86]\u001b[39m\u001b[32m, line 2\u001b[39m\n\u001b[32m      1\u001b[39m \u001b[38;5;66;03m# Find indices where the values differ\u001b[39;00m\n\u001b[32m----> \u001b[39m\u001b[32m2\u001b[39m differences = \u001b[43mcleaned_df\u001b[49m\u001b[43m[\u001b[49m\u001b[33;43m'\u001b[39;49m\u001b[33;43mRoiNumber\u001b[39;49m\u001b[33;43m'\u001b[39;49m\u001b[43m]\u001b[49m\u001b[43m \u001b[49m\u001b[43m!=\u001b[49m\u001b[43m \u001b[49m\u001b[43mclassdf\u001b[49m\u001b[43m[\u001b[49m\u001b[33;43m'\u001b[39;49m\u001b[33;43mRoiNumber\u001b[39;49m\u001b[33;43m'\u001b[39;49m\u001b[43m]\u001b[49m\n\u001b[32m      4\u001b[39m \u001b[38;5;66;03m# Show only rows that differ\u001b[39;00m\n\u001b[32m      5\u001b[39m \u001b[38;5;28;01mif\u001b[39;00m differences.any():\n",
      "\u001b[36mFile \u001b[39m\u001b[32m~/miniforge3/envs/carpentries/lib/python3.13/site-packages/pandas/core/ops/common.py:76\u001b[39m, in \u001b[36m_unpack_zerodim_and_defer.<locals>.new_method\u001b[39m\u001b[34m(self, other)\u001b[39m\n\u001b[32m     72\u001b[39m             \u001b[38;5;28;01mreturn\u001b[39;00m \u001b[38;5;28mNotImplemented\u001b[39m\n\u001b[32m     74\u001b[39m other = item_from_zerodim(other)\n\u001b[32m---> \u001b[39m\u001b[32m76\u001b[39m \u001b[38;5;28;01mreturn\u001b[39;00m \u001b[43mmethod\u001b[49m\u001b[43m(\u001b[49m\u001b[38;5;28;43mself\u001b[39;49m\u001b[43m,\u001b[49m\u001b[43m \u001b[49m\u001b[43mother\u001b[49m\u001b[43m)\u001b[49m\n",
      "\u001b[36mFile \u001b[39m\u001b[32m~/miniforge3/envs/carpentries/lib/python3.13/site-packages/pandas/core/arraylike.py:44\u001b[39m, in \u001b[36mOpsMixin.__ne__\u001b[39m\u001b[34m(self, other)\u001b[39m\n\u001b[32m     42\u001b[39m \u001b[38;5;129m@unpack_zerodim_and_defer\u001b[39m(\u001b[33m\"\u001b[39m\u001b[33m__ne__\u001b[39m\u001b[33m\"\u001b[39m)\n\u001b[32m     43\u001b[39m \u001b[38;5;28;01mdef\u001b[39;00m\u001b[38;5;250m \u001b[39m\u001b[34m__ne__\u001b[39m(\u001b[38;5;28mself\u001b[39m, other):\n\u001b[32m---> \u001b[39m\u001b[32m44\u001b[39m     \u001b[38;5;28;01mreturn\u001b[39;00m \u001b[38;5;28;43mself\u001b[39;49m\u001b[43m.\u001b[49m\u001b[43m_cmp_method\u001b[49m\u001b[43m(\u001b[49m\u001b[43mother\u001b[49m\u001b[43m,\u001b[49m\u001b[43m \u001b[49m\u001b[43moperator\u001b[49m\u001b[43m.\u001b[49m\u001b[43mne\u001b[49m\u001b[43m)\u001b[49m\n",
      "\u001b[36mFile \u001b[39m\u001b[32m~/miniforge3/envs/carpentries/lib/python3.13/site-packages/pandas/core/series.py:6125\u001b[39m, in \u001b[36mSeries._cmp_method\u001b[39m\u001b[34m(self, other, op)\u001b[39m\n\u001b[32m   6122\u001b[39m res_name = ops.get_op_result_name(\u001b[38;5;28mself\u001b[39m, other)\n\u001b[32m   6124\u001b[39m \u001b[38;5;28;01mif\u001b[39;00m \u001b[38;5;28misinstance\u001b[39m(other, Series) \u001b[38;5;129;01mand\u001b[39;00m \u001b[38;5;129;01mnot\u001b[39;00m \u001b[38;5;28mself\u001b[39m._indexed_same(other):\n\u001b[32m-> \u001b[39m\u001b[32m6125\u001b[39m     \u001b[38;5;28;01mraise\u001b[39;00m \u001b[38;5;167;01mValueError\u001b[39;00m(\u001b[33m\"\u001b[39m\u001b[33mCan only compare identically-labeled Series objects\u001b[39m\u001b[33m\"\u001b[39m)\n\u001b[32m   6127\u001b[39m lvalues = \u001b[38;5;28mself\u001b[39m._values\n\u001b[32m   6128\u001b[39m rvalues = extract_array(other, extract_numpy=\u001b[38;5;28;01mTrue\u001b[39;00m, extract_range=\u001b[38;5;28;01mTrue\u001b[39;00m)\n",
      "\u001b[31mValueError\u001b[39m: Can only compare identically-labeled Series objects"
     ]
    }
   ],
   "source": [
    "# Find indices where the values differ --  this will only work if indexing is the same so might not really work here\n",
    "differences = cleaned_df['RoiNumber'] != classdf['RoiNumber']\n",
    "\n",
    "# Show only rows that differ\n",
    "if differences.any():\n",
    "    print(\"Rows with different RoiNumbers:\")\n",
    "    print(cleaned_df.loc[differences, 'RoiNumber'].reset_index(drop=True).rename(\"cleaned_df\"))\n",
    "    print(classdf.loc[differences, 'RoiNumber'].reset_index(drop=True).rename(\"classdf\"))\n",
    "else:\n",
    "    print(\"All RoiNumbers match.\")\n"
   ]
  },
  {
   "cell_type": "code",
   "execution_count": 90,
   "id": "1c79189f-ebe5-4860-9422-d060cfe4ae80",
   "metadata": {},
   "outputs": [
    {
     "name": "stdout",
     "output_type": "stream",
     "text": [
      "All RoiNumbers match by position.\n"
     ]
    }
   ],
   "source": [
    "# Reset index to align rows for element-wise comparison\n",
    "roi_clean = cleaned_df['RoiNumber'].reset_index(drop=True)\n",
    "roi_class = classdf['RoiNumber'].reset_index(drop=True)\n",
    "\n",
    "# Now compare them\n",
    "differences = roi_clean != roi_class\n",
    "\n",
    "if differences.any():\n",
    "    print(\"Rows with different RoiNumbers:\")\n",
    "    print(\"cleaned_df values:\")\n",
    "    print(roi_clean[differences])\n",
    "    print(\"\\nclassdf values:\")\n",
    "    print(roi_class[differences])\n",
    "else:\n",
    "    print(\"All RoiNumbers match by position.\")\n"
   ]
  },
  {
   "cell_type": "markdown",
   "id": "0c9fb52d-8724-4306-a702-bc8ee4d0c4c0",
   "metadata": {},
   "source": [
    "# wahoo they match so now lets calculatea running list of sample volumes in the adc file\n",
    "### this is done by :\n",
    "\n",
    "## how to calculate volume analyzed\n",
    "\n",
    "Instantaneous estimates of sample volume analyzed will be:\n",
    "\n",
    "[run_time - inhibit_time]/[240]\n",
    "\n",
    "Alternatively, it may be possible to update run_time as grab_time_end since that's the point in time when last trigger image capture ended. So:\n",
    "\n",
    "[grab_time_end - inhibit_time]/[240]\n",
    "\n",
    "The '240' is the number of seconds required to analyze 1 mL of sample so result is in mL. If inhibit_time isn't reported directly by IFCBacq trigger report, it might be estimated instead as a running sum of [grab_time_end - grab_time_start].\n",
    "\n",
    "\n",
    "\n",
    "so if we want to create running volume analyzed it should just be run time - inhibit time / 240 for each row since both those valies are cumulative\n"
   ]
  },
  {
   "cell_type": "code",
   "execution_count": 92,
   "id": "54c55bb3-d90e-4b86-a740-c96cc262fede",
   "metadata": {},
   "outputs": [
    {
     "name": "stdout",
     "output_type": "stream",
     "text": [
      "      trigger#      ADCtime      PMTA      PMTB      PMTC      PMTD     PeakA  \\\n",
      "4114      3724  1199.856117  0.001689  0.009524  0.002846  0.004904  0.040107   \n",
      "4115      3725  1200.139796  0.002063  0.006877  0.002801  0.004892  0.084679   \n",
      "4116      3725  1200.139796  0.002063  0.006877  0.002801  0.004892  0.084679   \n",
      "4117      3726  1200.627856  0.008771  0.322509  0.002859  0.005385  0.118332   \n",
      "4118      3727  1200.737582  0.002055  0.007907  0.002781  0.004823  0.068109   \n",
      "\n",
      "         PeakB     PeakC     PeakD  ...  RoiHeight  StartByte  ComparatorOut  \\\n",
      "4114  0.201244  0.014932  0.018563  ...         44   62398544              0   \n",
      "4115  0.087030  0.014946  0.018613  ...         44   62401360              0   \n",
      "4116  0.087030  0.014946  0.018613  ...         44   62403824              0   \n",
      "4117  3.204517  0.015130  0.018804  ...        108   62406640              0   \n",
      "4118  0.087471  0.014925  0.018616  ...         52   62422192              0   \n",
      "\n",
      "      StartPoint  SignalLength  Status      RunTime  InhibitTime  \\\n",
      "4114           0             0       0  1199.937917   304.464132   \n",
      "4115           0             0       0  1200.221528   304.545521   \n",
      "4116           0             0       0  1200.221528   304.545521   \n",
      "4117           0             0       0  1200.710417   304.627569   \n",
      "4118           0             0       0  1200.819306   304.709028   \n",
      "\n",
      "      InhibitTimeDiff  RoiNumber  \n",
      "4114         0.081493       4115  \n",
      "4115         0.081389       4116  \n",
      "4116         0.000000       4117  \n",
      "4117         0.082049       4118  \n",
      "4118         0.081458       4119  \n",
      "\n",
      "[5 rows x 26 columns]\n"
     ]
    }
   ],
   "source": [
    "#check final volume against volume on ifcb dashboard using the above formula\n",
    "print(cleaned_df.tail())"
   ]
  },
  {
   "cell_type": "code",
   "execution_count": 94,
   "id": "6153a907-f2ab-4747-9caa-652e7b303d52",
   "metadata": {},
   "outputs": [
    {
     "data": {
      "text/plain": [
       "3.7337928250000005"
      ]
     },
     "execution_count": 94,
     "metadata": {},
     "output_type": "execute_result"
    }
   ],
   "source": [
    "(1200.819306 - 304.709028 )/ 240\n",
    "# its a match!\n"
   ]
  },
  {
   "cell_type": "code",
   "execution_count": 91,
   "id": "85b88d9b-4542-4b2a-95a4-c872f5be146d",
   "metadata": {},
   "outputs": [
    {
     "name": "stdout",
     "output_type": "stream",
     "text": [
      "Index(['trigger#', 'ADCtime', 'PMTA', 'PMTB', 'PMTC', 'PMTD', 'PeakA', 'PeakB',\n",
      "       'PeakC', 'PeakD', 'TimeOfFlight', 'GrabTimeStart', 'GrabTimeEnd',\n",
      "       'RoiX', 'RoiY', 'RoiWidth', 'RoiHeight', 'StartByte', 'ComparatorOut',\n",
      "       'StartPoint', 'SignalLength', 'Status', 'RunTime', 'InhibitTime',\n",
      "       'InhibitTimeDiff', 'RoiNumber'],\n",
      "      dtype='object')\n"
     ]
    }
   ],
   "source": [
    "print(cleaned_df.columns)"
   ]
  },
  {
   "cell_type": "code",
   "execution_count": 96,
   "id": "1f077349-b4c3-4149-a88c-49777ec26f7a",
   "metadata": {},
   "outputs": [],
   "source": [
    "# create VolumeAnalyzed\n",
    "\n",
    "#first ensure that the df is a clean copy not jsut a fileted set\n",
    "cleaned_df = cleaned_df.copy()\n",
    "\n",
    "# then can calculate the volume\n",
    "\n",
    "cleaned_df['VolumeAnalyzed'] = (cleaned_df['RunTime']-cleaned_df['InhibitTime'])/240"
   ]
  },
  {
   "cell_type": "code",
   "execution_count": 97,
   "id": "950e8f2d-ce2a-4335-82a2-80df17b3e39f",
   "metadata": {},
   "outputs": [
    {
     "name": "stdout",
     "output_type": "stream",
     "text": [
      "      trigger#      ADCtime      PMTA      PMTB      PMTC      PMTD     PeakA  \\\n",
      "4114      3724  1199.856117  0.001689  0.009524  0.002846  0.004904  0.040107   \n",
      "4115      3725  1200.139796  0.002063  0.006877  0.002801  0.004892  0.084679   \n",
      "4116      3725  1200.139796  0.002063  0.006877  0.002801  0.004892  0.084679   \n",
      "4117      3726  1200.627856  0.008771  0.322509  0.002859  0.005385  0.118332   \n",
      "4118      3727  1200.737582  0.002055  0.007907  0.002781  0.004823  0.068109   \n",
      "\n",
      "         PeakB     PeakC     PeakD  ...  StartByte  ComparatorOut  StartPoint  \\\n",
      "4114  0.201244  0.014932  0.018563  ...   62398544              0           0   \n",
      "4115  0.087030  0.014946  0.018613  ...   62401360              0           0   \n",
      "4116  0.087030  0.014946  0.018613  ...   62403824              0           0   \n",
      "4117  3.204517  0.015130  0.018804  ...   62406640              0           0   \n",
      "4118  0.087471  0.014925  0.018616  ...   62422192              0           0   \n",
      "\n",
      "      SignalLength  Status      RunTime  InhibitTime  InhibitTimeDiff  \\\n",
      "4114             0       0  1199.937917   304.464132         0.081493   \n",
      "4115             0       0  1200.221528   304.545521         0.081389   \n",
      "4116             0       0  1200.221528   304.545521         0.000000   \n",
      "4117             0       0  1200.710417   304.627569         0.082049   \n",
      "4118             0       0  1200.819306   304.709028         0.081458   \n",
      "\n",
      "      RoiNumber  VolumeAnalyzed  \n",
      "4114       4115        3.731141  \n",
      "4115       4116        3.731983  \n",
      "4116       4117        3.731983  \n",
      "4117       4118        3.733679  \n",
      "4118       4119        3.733793  \n",
      "\n",
      "[5 rows x 27 columns]\n"
     ]
    }
   ],
   "source": [
    "print(cleaned_df.tail())"
   ]
  },
  {
   "cell_type": "markdown",
   "id": "452a7287-92cb-401b-b84b-45dc06fe2a2d",
   "metadata": {},
   "source": [
    "## Now let's merge the volume anayzed based on roi number into the class file"
   ]
  },
  {
   "cell_type": "code",
   "execution_count": 106,
   "id": "1823d5e3-e4d0-4aa2-8dcc-ffdde0371f42",
   "metadata": {},
   "outputs": [],
   "source": [
    "# Merge just the RoiNumber and VolumeAnalyzed columns into classdf\n",
    "classdf = classdf.merge(\n",
    "    cleaned_df[['RoiNumber', 'VolumeAnalyzed','RunTime']],\n",
    "    on='RoiNumber',\n",
    "    how='left'  # or 'inner' if you want only matching rows\n",
    ")\n"
   ]
  },
  {
   "cell_type": "code",
   "execution_count": 109,
   "id": "0bf3656f-4c5c-4308-9c4f-8da37ff0ae4a",
   "metadata": {},
   "outputs": [
    {
     "name": "stdout",
     "output_type": "stream",
     "text": [
      "Index(['pid', 'Alexandrium_catenella',\n",
      "       'Alexandrium_catenella_TAG_2cell_TAG_chain',\n",
      "       'Alexandrium_catenella_TAG_4cell_TAG_chain',\n",
      "       'Alexandrium_catenella_TAG_dividing',\n",
      "       'Alexandrium_catenella_TAG_fusing', 'Amoeba', 'Amylax', 'Apedinella',\n",
      "       'Asterionellopsis_glacialis',\n",
      "       ...\n",
      "       'fiber_TAG_external_detritus', 'flagellate', 'flagellate_morphotype1',\n",
      "       'flagellate_morphotype3', 'pennate', 'pollen_spikey_dino', 'unknown2',\n",
      "       'RoiNumber', 'VolumeAnalyzed', 'RunTime'],\n",
      "      dtype='object', length=140)\n"
     ]
    }
   ],
   "source": [
    "print(classdf.columns) # inspect why are there two did I just press twice?"
   ]
  },
  {
   "cell_type": "code",
   "execution_count": 103,
   "id": "29e2b1b1-ff49-4a54-ac65-b4c335a01717",
   "metadata": {},
   "outputs": [
    {
     "name": "stdout",
     "output_type": "stream",
     "text": [
      "4108    3.731141\n",
      "4109    3.731983\n",
      "4110    3.731983\n",
      "4111    3.733679\n",
      "4112    3.733793\n",
      "Name: VolumeAnalyzed_x, dtype: float64\n",
      "4108    3.731141\n",
      "4109    3.731983\n",
      "4110    3.731983\n",
      "4111    3.733679\n",
      "4112    3.733793\n",
      "Name: VolumeAnalyzed_y, dtype: float64\n"
     ]
    }
   ],
   "source": [
    "print(classdf['VolumeAnalyzed_x'].tail())\n",
    "print(classdf['VolumeAnalyzed_y'].tail())\n",
    "# they look the same -- pandas will auto do this if you riun it twice to keep you from overwriting your data"
   ]
  },
  {
   "cell_type": "code",
   "execution_count": 108,
   "id": "0b605f5c-3996-4459-9f18-1db1604b3e42",
   "metadata": {},
   "outputs": [],
   "source": [
    "# If you want to keep the newly merged one (_y) and remove the old one (_x)\n",
    "classdf = classdf.drop(columns=['VolumeAnalyzed_x']) \\\n",
    "                 .rename(columns={'VolumeAnalyzed_y': 'VolumeAnalyzed'})"
   ]
  },
  {
   "cell_type": "code",
   "execution_count": 110,
   "id": "a98cbe61-89b1-4b48-9849-ac35d89a9c2f",
   "metadata": {},
   "outputs": [
    {
     "data": {
      "image/png": "[encoded data removed]",
      "text/plain": [
       "<Figure size 640x480 with 1 Axes>"
      ]
     },
     "metadata": {},
     "output_type": "display_data"
    }
   ],
   "source": [
    "import matplotlib.pyplot as plt\n",
    "\n",
    "ax = classdf.plot(x='RunTime', y='VolumeAnalyzed', kind='scatter')\n",
    "ax.set_xlabel('Run Time (minutes)')\n",
    "ax.set_ylabel('Volume Analyzed (mL)')\n",
    "ax.set_title('Volume Analyzed vs Run Time')\n",
    "\n",
    "plt.show()"
   ]
  },
  {
   "cell_type": "markdown",
   "id": "c8ea88c4-a68c-4531-a754-4650918dd3f2",
   "metadata": {},
   "source": [
    "## so thats cool I guess we know that in volume analyzed is pretty linear as expexted and looks like how it should\n",
    "### now to figure out how to make a cells per liter of something and add to the plot\n",
    " I think the easiest way to do this is just pick on that I think will have a good number of hits within the dataset then create a running list of how many there are \n",
    " An efficient but easy way to do it would be create a binary based on over or under of a score then create a new row that just sums this binary\n",
    " I bet there is a better way to do this lets consult the git and chat\n",
    "\n",
    " #### need to knowq what the threshhold is for the class data\n"
   ]
  },
  {
   "cell_type": "code",
   "execution_count": 111,
   "id": "bff7f2e8-54ac-460a-ad4c-a3a8d337f63d",
   "metadata": {},
   "outputs": [
    {
     "name": "stdout",
     "output_type": "stream",
     "text": [
      "                              pid  Alexandrium_catenella  \\\n",
      "0  D20240418T084427_IFCB124_00002           0.000000e+00   \n",
      "1  D20240418T084427_IFCB124_00003           0.000000e+00   \n",
      "2  D20240418T084427_IFCB124_00004           0.000000e+00   \n",
      "3  D20240418T084427_IFCB124_00005           1.000000e-07   \n",
      "4  D20240418T084427_IFCB124_00006           0.000000e+00   \n",
      "\n",
      "   Alexandrium_catenella_TAG_2cell_TAG_chain  \\\n",
      "0                                   0.000000   \n",
      "1                                   0.000000   \n",
      "2                                   0.000000   \n",
      "3                                   0.000003   \n",
      "4                                   0.000000   \n",
      "\n",
      "   Alexandrium_catenella_TAG_4cell_TAG_chain  \\\n",
      "0                               0.000000e+00   \n",
      "1                               6.000000e-08   \n",
      "2                               0.000000e+00   \n",
      "3                               0.000000e+00   \n",
      "4                               0.000000e+00   \n",
      "\n",
      "   Alexandrium_catenella_TAG_dividing  Alexandrium_catenella_TAG_fusing  \\\n",
      "0                        0.000000e+00                          0.000000   \n",
      "1                        0.000000e+00                          0.000000   \n",
      "2                        0.000000e+00                          0.000000   \n",
      "3                        2.400000e-07                          0.000001   \n",
      "4                        0.000000e+00                          0.000000   \n",
      "\n",
      "         Amoeba  Amylax  Apedinella  Asterionellopsis_glacialis  ...  \\\n",
      "0  0.000000e+00     0.0         0.0                6.000000e-08  ...   \n",
      "1  0.000000e+00     0.0         0.0                2.000000e-07  ...   \n",
      "2  5.900000e-06     0.0         0.0                0.000000e+00  ...   \n",
      "3  3.600000e-07     0.0         0.0                9.500000e-07  ...   \n",
      "4  0.000000e+00     0.0         0.0                0.000000e+00  ...   \n",
      "\n",
      "   fiber_TAG_external_detritus  flagellate  flagellate_morphotype1  \\\n",
      "0                 6.200000e-06    0.000000                     0.0   \n",
      "1                 0.000000e+00    0.000000                     0.0   \n",
      "2                 1.115000e-05    0.000000                     0.0   \n",
      "3                 6.000000e-08    0.000033                     0.0   \n",
      "4                 2.300000e-06    0.000000                     0.0   \n",
      "\n",
      "   flagellate_morphotype3   pennate  pollen_spikey_dino  unknown2  RoiNumber  \\\n",
      "0            0.000000e+00  0.000000                 0.0       0.0          2   \n",
      "1            0.000000e+00  0.000000                 0.0       0.0          3   \n",
      "2            6.000000e-08  0.000000                 0.0       0.0          4   \n",
      "3            1.406000e-02  0.000991                 0.0       0.0          5   \n",
      "4            0.000000e+00  0.000000                 0.0       0.0          6   \n",
      "\n",
      "   VolumeAnalyzed   RunTime  \n",
      "0        0.026267  6.375004  \n",
      "1        0.027738  6.809937  \n",
      "2        0.027738  6.809937  \n",
      "3        0.028084  6.974722  \n",
      "4        0.028957  7.265551  \n",
      "\n",
      "[5 rows x 140 columns]\n"
     ]
    }
   ],
   "source": [
    "print(classdf.head())"
   ]
  },
  {
   "cell_type": "markdown",
   "id": "c8f6fbe6-4e90-4bda-ba49-8f9aec234286",
   "metadata": {},
   "source": [
    "# I think I should clean this up and streamlinen it -- also worthwhile because I want to do this with a bin that has lots of alexandrium or something that we have reasonable confidence in the classifier results so lets begin here\n",
    "\n",
    "## steps\n",
    "1. load in and clean ADC HDR and Class\n",
    "2. Create roi number in both ADC and Class file\n",
    "3. Create instant inhibit time in ADC\n",
    "4. Calculate instant volume analyzed in ADC\n",
    "5. Merge volume analyzed to class on roi numner\n",
    "6. create metric for is alexandrium -- i think binary makes sense and then sum\n",
    "7. create running sum of Alexandrium and cells/ml\n",
    "8. graph\n",
    "9. make mike proud of me\n",
    "\n",
    "I am going to do this on a new sheet"
   ]
  }
 ],
 "metadata": {
  "kernelspec": {
   "display_name": "Python 3 (ipykernel)",
   "language": "python",
   "name": "python3"
  },
  "language_info": {
   "codemirror_mode": {
    "name": "ipython",
    "version": 3
   },
   "file_extension": ".py",
   "mimetype": "text/x-python",
   "name": "python",
   "nbconvert_exporter": "python",
   "pygments_lexer": "ipython3",
   "version": "3.13.5"
  }
 },
 "nbformat": 4,
 "nbformat_minor": 5
}
